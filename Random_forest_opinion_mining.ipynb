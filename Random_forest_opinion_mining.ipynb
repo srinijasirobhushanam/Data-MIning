{
 "cells": [
  {
   "cell_type": "code",
   "execution_count": 1,
   "metadata": {},
   "outputs": [],
   "source": [
    "import pandas as pd\n",
    "import numpy as np\n",
    "from sklearn.utils import shuffle"
   ]
  },
  {
   "cell_type": "code",
   "execution_count": 2,
   "metadata": {},
   "outputs": [
    {
     "name": "stdout",
     "output_type": "stream",
     "text": [
      "<class 'pandas.core.frame.DataFrame'>\n",
      "RangeIndex: 4781551 entries, 0 to 4781550\n",
      "Data columns (total 6 columns):\n",
      "business_id    object\n",
      "date           object\n",
      "review_id      object\n",
      "stars          float64\n",
      "text           object\n",
      "user_id        object\n",
      "dtypes: float64(1), object(5)\n",
      "memory usage: 218.9+ MB\n"
     ]
    }
   ],
   "source": [
    "path='/home/drallab/datamining/Yelp_Sentiment_Analysis-master/data/review_subset.csv'\n",
    "data = pd.read_csv(path)\n",
    "data.head()\n",
    "data.info()"
   ]
  },
  {
   "cell_type": "code",
   "execution_count": 3,
   "metadata": {},
   "outputs": [],
   "source": [
    "df1 = data.iloc[:,3:5]"
   ]
  },
  {
   "cell_type": "code",
   "execution_count": 4,
   "metadata": {},
   "outputs": [
    {
     "name": "stdout",
     "output_type": "stream",
     "text": [
      "<class 'pandas.core.frame.DataFrame'>\n",
      "RangeIndex: 4781551 entries, 0 to 4781550\n",
      "Data columns (total 2 columns):\n",
      "stars    float64\n",
      "text     object\n",
      "dtypes: float64(1), object(1)\n",
      "memory usage: 73.0+ MB\n"
     ]
    }
   ],
   "source": [
    "df1.info()\n",
    "df1 = df1[(df1.stars == 5) | (df1.stars == 1)]"
   ]
  },
  {
   "cell_type": "code",
   "execution_count": 5,
   "metadata": {},
   "outputs": [],
   "source": [
    "df1 = shuffle(df1)"
   ]
  },
  {
   "cell_type": "code",
   "execution_count": 6,
   "metadata": {},
   "outputs": [],
   "source": [
    "df1.dropna(inplace=True)"
   ]
  },
  {
   "cell_type": "code",
   "execution_count": 7,
   "metadata": {},
   "outputs": [
    {
     "data": {
      "text/html": [
       "<div>\n",
       "<style scoped>\n",
       "    .dataframe tbody tr th:only-of-type {\n",
       "        vertical-align: middle;\n",
       "    }\n",
       "\n",
       "    .dataframe tbody tr th {\n",
       "        vertical-align: top;\n",
       "    }\n",
       "\n",
       "    .dataframe thead th {\n",
       "        text-align: right;\n",
       "    }\n",
       "</style>\n",
       "<table border=\"1\" class=\"dataframe\">\n",
       "  <thead>\n",
       "    <tr style=\"text-align: right;\">\n",
       "      <th></th>\n",
       "      <th>stars</th>\n",
       "      <th>text</th>\n",
       "    </tr>\n",
       "  </thead>\n",
       "  <tbody>\n",
       "    <tr>\n",
       "      <th>2038099</th>\n",
       "      <td>5.0</td>\n",
       "      <td>Wow this place is. gem. Best oysters i ever ha...</td>\n",
       "    </tr>\n",
       "    <tr>\n",
       "      <th>3103183</th>\n",
       "      <td>5.0</td>\n",
       "      <td>Wish there were more stars to give this amazin...</td>\n",
       "    </tr>\n",
       "    <tr>\n",
       "      <th>4024800</th>\n",
       "      <td>5.0</td>\n",
       "      <td>Everything is amazing here, the line is out th...</td>\n",
       "    </tr>\n",
       "    <tr>\n",
       "      <th>3031605</th>\n",
       "      <td>5.0</td>\n",
       "      <td>just got text msg they have re-opened!!!   1/1...</td>\n",
       "    </tr>\n",
       "    <tr>\n",
       "      <th>3442138</th>\n",
       "      <td>5.0</td>\n",
       "      <td>Hello friends,\\n\\nCall in your order, gets kin...</td>\n",
       "    </tr>\n",
       "  </tbody>\n",
       "</table>\n",
       "</div>"
      ],
      "text/plain": [
       "         stars                                               text\n",
       "2038099    5.0  Wow this place is. gem. Best oysters i ever ha...\n",
       "3103183    5.0  Wish there were more stars to give this amazin...\n",
       "4024800    5.0  Everything is amazing here, the line is out th...\n",
       "3031605    5.0  just got text msg they have re-opened!!!   1/1...\n",
       "3442138    5.0  Hello friends,\\n\\nCall in your order, gets kin..."
      ]
     },
     "execution_count": 7,
     "metadata": {},
     "output_type": "execute_result"
    }
   ],
   "source": [
    "df1.head()"
   ]
  },
  {
   "cell_type": "code",
   "execution_count": 8,
   "metadata": {},
   "outputs": [],
   "source": [
    "\n",
    "X_data = df1['text']\n",
    "y_data = df1['stars']"
   ]
  },
  {
   "cell_type": "code",
   "execution_count": 9,
   "metadata": {},
   "outputs": [
    {
     "name": "stdout",
     "output_type": "stream",
     "text": [
      "(2269756,)\n",
      "(756586,)\n",
      "(2269756,)\n",
      "(756586,)\n"
     ]
    }
   ],
   "source": [
    "from sklearn.model_selection import train_test_split\n",
    "\n",
    "X_train,X_test,y_train,y_test= train_test_split(X_data,y_data,test_size =0.25,random_state=42)\n",
    "print (X_train.shape)\n",
    "print (X_test.shape)\n",
    "print (y_train.shape)\n",
    "print (y_test.shape)"
   ]
  },
  {
   "cell_type": "code",
   "execution_count": 10,
   "metadata": {},
   "outputs": [
    {
     "data": {
      "text/plain": [
       "<2269756x354985 sparse matrix of type '<type 'numpy.int64'>'\n",
       "\twith 146694160 stored elements in Compressed Sparse Row format>"
      ]
     },
     "execution_count": 10,
     "metadata": {},
     "output_type": "execute_result"
    }
   ],
   "source": [
    "from sklearn.feature_extraction.text import CountVectorizer\n",
    "vect = CountVectorizer()\n",
    "vect.fit(X_train)\n",
    "X_train_dtm = vect.transform(X_train)\n",
    "X_train_dtm"
   ]
  },
  {
   "cell_type": "code",
   "execution_count": 11,
   "metadata": {},
   "outputs": [],
   "source": [
    "X_test_dtm = vect.transform(X_test)"
   ]
  },
  {
   "cell_type": "code",
   "execution_count": 12,
   "metadata": {},
   "outputs": [],
   "source": [
    "from sklearn.preprocessing import LabelEncoder\n",
    "lb = LabelEncoder()\n",
    "y_train=lb.fit_transform(y_train)\n",
    "y_test=lb.fit_transform(y_test)"
   ]
  },
  {
   "cell_type": "code",
   "execution_count": 13,
   "metadata": {},
   "outputs": [],
   "source": [
    "from sklearn.ensemble import RandomForestClassifier\n",
    "rfc=RandomForestClassifier(random_state=42)"
   ]
  },
  {
   "cell_type": "code",
   "execution_count": 14,
   "metadata": {},
   "outputs": [],
   "source": [
    "param_grid = { \n",
    "    'n_estimators': [200, 500],\n",
    "    'max_features': ['auto', 'sqrt', 'log2'],\n",
    "    'max_depth' : [4,5,6,7,8],\n",
    "    'criterion' :['gini', 'entropy']\n",
    "}"
   ]
  },
  {
   "cell_type": "code",
   "execution_count": 15,
   "metadata": {},
   "outputs": [],
   "source": [
    "rfc1=RandomForestClassifier(random_state=42, max_features='auto', n_estimators= 100, max_depth=5, criterion='gini')"
   ]
  },
  {
   "cell_type": "code",
   "execution_count": 16,
   "metadata": {},
   "outputs": [
    {
     "data": {
      "text/plain": [
       "RandomForestClassifier(bootstrap=True, class_weight=None, criterion='gini',\n",
       "            max_depth=5, max_features='auto', max_leaf_nodes=None,\n",
       "            min_impurity_decrease=0.0, min_impurity_split=None,\n",
       "            min_samples_leaf=1, min_samples_split=2,\n",
       "            min_weight_fraction_leaf=0.0, n_estimators=100, n_jobs=None,\n",
       "            oob_score=False, random_state=42, verbose=0, warm_start=False)"
      ]
     },
     "execution_count": 16,
     "metadata": {},
     "output_type": "execute_result"
    }
   ],
   "source": [
    "rfc1.fit(X_train_dtm, y_train)"
   ]
  },
  {
   "cell_type": "code",
   "execution_count": 17,
   "metadata": {},
   "outputs": [],
   "source": [
    "pred=rfc1.predict(X_test_dtm)"
   ]
  },
  {
   "cell_type": "code",
   "execution_count": 18,
   "metadata": {},
   "outputs": [
    {
     "name": "stdout",
     "output_type": "stream",
     "text": [
      "('Accuracy for Random Forest on CV data: ', 0.753905041859088)\n"
     ]
    }
   ],
   "source": [
    "from sklearn.metrics import accuracy_score\n",
    "print(\"Accuracy for Random Forest on CV data: \",accuracy_score(y_test,pred))"
   ]
  },
  {
   "cell_type": "code",
   "execution_count": 20,
   "metadata": {},
   "outputs": [
    {
     "name": "stdout",
     "output_type": "stream",
     "text": [
      "('confusion matrix \\n', array([[     8, 186192],\n",
      "       [     0, 570386]]))\n"
     ]
    }
   ],
   "source": [
    "#Lets see the confusion metrix \n",
    "\n",
    "from sklearn import metrics\n",
    "\n",
    "conf_matrix=metrics.confusion_matrix(y_test,pred)\n",
    "print('confusion matrix \\n',conf_matrix)"
   ]
  },
  {
   "cell_type": "code",
   "execution_count": 22,
   "metadata": {},
   "outputs": [
    {
     "data": {
      "text/html": [
       "<div>\n",
       "<style scoped>\n",
       "    .dataframe tbody tr th:only-of-type {\n",
       "        vertical-align: middle;\n",
       "    }\n",
       "\n",
       "    .dataframe tbody tr th {\n",
       "        vertical-align: top;\n",
       "    }\n",
       "\n",
       "    .dataframe thead th {\n",
       "        text-align: right;\n",
       "    }\n",
       "</style>\n",
       "<table border=\"1\" class=\"dataframe\">\n",
       "  <thead>\n",
       "    <tr style=\"text-align: right;\">\n",
       "      <th>Predicted</th>\n",
       "      <th>0</th>\n",
       "      <th>1</th>\n",
       "      <th>All</th>\n",
       "    </tr>\n",
       "    <tr>\n",
       "      <th>True</th>\n",
       "      <th></th>\n",
       "      <th></th>\n",
       "      <th></th>\n",
       "    </tr>\n",
       "  </thead>\n",
       "  <tbody>\n",
       "    <tr>\n",
       "      <th>0</th>\n",
       "      <td>8</td>\n",
       "      <td>186192</td>\n",
       "      <td>186200</td>\n",
       "    </tr>\n",
       "    <tr>\n",
       "      <th>1</th>\n",
       "      <td>0</td>\n",
       "      <td>570386</td>\n",
       "      <td>570386</td>\n",
       "    </tr>\n",
       "    <tr>\n",
       "      <th>All</th>\n",
       "      <td>8</td>\n",
       "      <td>756578</td>\n",
       "      <td>756586</td>\n",
       "    </tr>\n",
       "  </tbody>\n",
       "</table>\n",
       "</div>"
      ],
      "text/plain": [
       "Predicted  0       1     All\n",
       "True                        \n",
       "0          8  186192  186200\n",
       "1          0  570386  570386\n",
       "All        8  756578  756586"
      ]
     },
     "execution_count": 22,
     "metadata": {},
     "output_type": "execute_result"
    }
   ],
   "source": [
    "pd.crosstab(y_test, pred, rownames=['True'], colnames=['Predicted'], margins=True)\n"
   ]
  },
  {
   "cell_type": "code",
   "execution_count": 25,
   "metadata": {},
   "outputs": [
    {
     "name": "stdout",
     "output_type": "stream",
     "text": [
      "('ROC_AUC_SCORE:- ', 0.5000214822771214)\n"
     ]
    }
   ],
   "source": [
    "auc_val = metrics.roc_auc_score(y_test,pred)\n",
    "print('ROC_AUC_SCORE:- ', auc_val)\n"
   ]
  },
  {
   "cell_type": "code",
   "execution_count": 27,
   "metadata": {},
   "outputs": [
    {
     "name": "stdout",
     "output_type": "stream",
     "text": [
      "('Recall score', 1.0)\n"
     ]
    }
   ],
   "source": [
    "#Sensitivity : is the classifier to detecting positive instances , also True Positive Rate\" or \"Recall\"\n",
    "recall_NB= metrics.recall_score(y_test,pred)\n",
    "print ('Recall score',recall_NB)\n"
   ]
  },
  {
   "cell_type": "code",
   "execution_count": 28,
   "metadata": {},
   "outputs": [
    {
     "name": "stdout",
     "output_type": "stream",
     "text": [
      "('Precision Score', 0.7539024396691418)\n"
     ]
    }
   ],
   "source": [
    "#Precision: When a positive value is predicted, how often is the prediction correct?\n",
    "#How \"precise\" is the classifier when predicting positive instances?\n",
    "\n",
    "Precision_NB= metrics.precision_score(y_test,pred)\n",
    "print('Precision Score', Precision_NB)"
   ]
  },
  {
   "cell_type": "code",
   "execution_count": 29,
   "metadata": {},
   "outputs": [
    {
     "data": {
      "text/plain": [
       "4432762    They got my order wrong and I called multiple ...\n",
       "3475768    Rude.  Stupid.  Horrible service and yells bac...\n",
       "1694768    This place wasn't worth the drive... Was promi...\n",
       "2791753    We wanted to grab a quick dinner with several ...\n",
       "1980912    The entertainment was enjoyable. The food, was...\n",
       "2753000    Awful service. I was really counting on them a...\n",
       "4131638    My first couple of experiences were good. They...\n",
       "3255715    literally no stars. i called in a week ago, ma...\n",
       "4067926    Just a bad place \\n\"Good morning \" none of the...\n",
       "2853602    New ownership company from New York. Lack of p...\n",
       "33828      This was our 2nd time in this week....the 1st ...\n",
       "4370941    Awful experience.  You can't teach people to c...\n",
       "2631506    Average food and atomsphere with a very rude a...\n",
       "4165860    Got here around 1pm for brunch on a Sunday, wa...\n",
       "2250981    Don't order from here if you actually want you...\n",
       "4622658    What a unfriendly place! We walked in and was ...\n",
       "3590101    Went today and got in fairly quickly (only goo...\n",
       "358803     Michelle was the worst server. If you don't li...\n",
       "3302718    After listening to Warren (a Freakling employe...\n",
       "4495953    I've never seen a hall owner behave the way th...\n",
       "2750503    Caesar's Palace is the Walmart among the strip...\n",
       "2697734    NO CONCEALED CARRY...  Saw this sign on the fr...\n",
       "3286142    Takes forever to get done with your car. Decen...\n",
       "1157247    Gross! I frequented Ink N Ivy when they opened...\n",
       "11954      Giving this place a one star rating strictly f...\n",
       "1553532    Hands down one of the worst hotel experiences ...\n",
       "2238806    Spoiled vegetables and fruit. Who's going to b...\n",
       "1714483    Pay attention to your check when you get it. T...\n",
       "3517164    We tried to make a reservation for a party of ...\n",
       "1549009    Beyond unsanitary. If I am to do my service as...\n",
       "                                 ...                        \n",
       "2197622    I wish that I could offer a less than 1 star r...\n",
       "4109468    I hate to write this but something happened on...\n",
       "2008000    Super bad service. Starts with the hostess who...\n",
       "764141     Arrived at 8:20 didn't have my tire said 20 mi...\n",
       "1757224    Horrible service. We  have a Sears Warrentee t...\n",
       "2633651    Ate here several times but came in tonight and...\n",
       "4127360    The worst customer service ever!\\nI spoke to s...\n",
       "3330051    There is nothing good about this dmv.... the  ...\n",
       "40544      I just left here. Haven't been here before and...\n",
       "1176603    Hands down THE worst Wal-Mart I ever been in. ...\n",
       "1115406    Presidential has a habit of hiring subs, and n...\n",
       "773842     Blah! Ordered the Linguini with clams. No good...\n",
       "1355807    I came in a stood at the host stand for a coup...\n",
       "2805866    We used to shop at Bedrosian\"s  all the time. ...\n",
       "1239679    They have a sign that says they validate parki...\n",
       "4000643    I go to HT in Steele Creek more often than not...\n",
       "4212223    To sum up this show in one word: Terrible.  I ...\n",
       "4130803    If I could I would give the place a 0 star. At...\n",
       "2887673    Can the bathrooms have dividers for the urinal...\n",
       "897314     I brought my daughter a couple days after she ...\n",
       "610417     Have been to this place approximately 5 times ...\n",
       "1290644    CONCERN FOR LACK OF SECURITY:\\n\\n*Forgive the ...\n",
       "4742843    i am convinced drivetime is a scam. It is part...\n",
       "1285394    $47.89 + tip for 3 people at brunch. 2 coffee ...\n",
       "4671337    I had trouble getting the app to work this mor...\n",
       "603728     This is an okay salon. I bought a groupon for ...\n",
       "4701639    this dentist is a scam artist he almost made m...\n",
       "4744636    Downhill that's all I gotta say, when I moved ...\n",
       "3219164    They do not have any biscuits nor small loaves...\n",
       "171161     Stay away from them!  They give bad service es...\n",
       "Name: text, Length: 186192, dtype: object"
      ]
     },
     "execution_count": 29,
     "metadata": {},
     "output_type": "execute_result"
    }
   ],
   "source": [
    "#print rating 1 reviews which are falsely callisified as positive i.e rating 5 ,diplay False Postive review comments\n",
    "X_test[(pred == 1) & (y_test == 0)]"
   ]
  },
  {
   "cell_type": "code",
   "execution_count": 30,
   "metadata": {},
   "outputs": [
    {
     "data": {
      "text/plain": [
       "Series([], Name: text, dtype: object)"
      ]
     },
     "execution_count": 30,
     "metadata": {},
     "output_type": "execute_result"
    }
   ],
   "source": [
    "#print rating 5 reviews which are falsely callisified as negative i.e rating 1,diplay True Negative review comments\n",
    "X_test[(pred == 0) & (y_test == 1)]"
   ]
  },
  {
   "cell_type": "code",
   "execution_count": 31,
   "metadata": {},
   "outputs": [
    {
     "name": "stdout",
     "output_type": "stream",
     "text": [
      "              precision    recall  f1-score   support\n",
      "\n",
      "           0       1.00      0.00      0.00    186200\n",
      "           1       0.75      1.00      0.86    570386\n",
      "\n",
      "   micro avg       0.75      0.75      0.75    756586\n",
      "   macro avg       0.88      0.50      0.43    756586\n",
      "weighted avg       0.81      0.75      0.65    756586\n",
      "\n"
     ]
    }
   ],
   "source": [
    "#Lets print classifcation report\n",
    "class_report = metrics.classification_report(y_test,pred)\n",
    "print (class_report)"
   ]
  }
 ],
 "metadata": {
  "kernelspec": {
   "display_name": "datamining",
   "language": "python",
   "name": "datamining"
  },
  "language_info": {
   "codemirror_mode": {
    "name": "ipython",
    "version": 2
   },
   "file_extension": ".py",
   "mimetype": "text/x-python",
   "name": "python",
   "nbconvert_exporter": "python",
   "pygments_lexer": "ipython2",
   "version": "2.7.16"
  }
 },
 "nbformat": 4,
 "nbformat_minor": 2
}

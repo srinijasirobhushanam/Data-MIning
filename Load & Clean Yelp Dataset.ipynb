{
 "cells": [
  {
   "cell_type": "code",
   "execution_count": 1,
   "metadata": {},
   "outputs": [],
   "source": [
    "import json\n",
    "import csv\n",
    "import pandas as pd\n",
    "import matplotlib.pyplot as plt"
   ]
  },
  {
   "cell_type": "markdown",
   "metadata": {},
   "source": [
    "# load review data"
   ]
  },
  {
   "cell_type": "code",
   "execution_count": 3,
   "metadata": {},
   "outputs": [],
   "source": [
    "data = []\n",
    "with open('/home/drallab/datamining/review.json') as f:\n",
    "    for line in f:\n",
    "        data.append(json.loads(line))"
   ]
  },
  {
   "cell_type": "code",
   "execution_count": 4,
   "metadata": {},
   "outputs": [
    {
     "data": {
      "text/plain": [
       "6685900"
      ]
     },
     "execution_count": 4,
     "metadata": {},
     "output_type": "execute_result"
    }
   ],
   "source": [
    "len(data)   # 4736897 reviews"
   ]
  },
  {
   "cell_type": "code",
   "execution_count": 5,
   "metadata": {},
   "outputs": [
    {
     "data": {
      "text/plain": [
       "{'business_id': 'ujmEBvifdJM6h6RLv4wQIg',\n",
       " 'cool': 0,\n",
       " 'date': '2013-05-07 04:34:36',\n",
       " 'funny': 1,\n",
       " 'review_id': 'Q1sbwvVQXV2734tPgoKj4Q',\n",
       " 'stars': 1.0,\n",
       " 'text': 'Total bill for this horrible service? Over $8Gs. These crooks actually had the nerve to charge us $69 for 3 pills. I checked online the pills can be had for 19 cents EACH! Avoid Hospital ERs at all costs.',\n",
       " 'useful': 6,\n",
       " 'user_id': 'hG7b0MtEbXx5QzbzE6C_VA'}"
      ]
     },
     "execution_count": 5,
     "metadata": {},
     "output_type": "execute_result"
    }
   ],
   "source": [
    "data[0]"
   ]
  },
  {
   "cell_type": "code",
   "execution_count": 6,
   "metadata": {},
   "outputs": [],
   "source": [
    "reviewid = []\n",
    "businessid= []\n",
    "userid = []\n",
    "stars = []\n",
    "text = []\n",
    "date = []\n",
    "\n",
    "for entry in range(0, len(data)):     \n",
    "    reviewid.append(data[entry]['review_id'])\n",
    "    businessid.append(data[entry]['business_id'])\n",
    "    userid.append(data[entry]['user_id'])\n",
    "    stars.append(data[entry]['stars'])\n",
    "    text.append(data[entry]['text'])\n",
    "    date.append(data[entry]['date'])"
   ]
  },
  {
   "cell_type": "code",
   "execution_count": 7,
   "metadata": {},
   "outputs": [],
   "source": [
    "data = {'review_id':reviewid,'business_id':businessid,'user_id':userid,'stars':stars,'text':text,'date':date}\n",
    "review_data  = pd.DataFrame(data)"
   ]
  },
  {
   "cell_type": "code",
   "execution_count": 8,
   "metadata": {},
   "outputs": [
    {
     "data": {
      "text/html": [
       "<div>\n",
       "<table border=\"1\" class=\"dataframe\">\n",
       "  <thead>\n",
       "    <tr style=\"text-align: right;\">\n",
       "      <th></th>\n",
       "      <th>business_id</th>\n",
       "      <th>date</th>\n",
       "      <th>review_id</th>\n",
       "      <th>stars</th>\n",
       "      <th>text</th>\n",
       "      <th>user_id</th>\n",
       "    </tr>\n",
       "  </thead>\n",
       "  <tbody>\n",
       "    <tr>\n",
       "      <th>0</th>\n",
       "      <td>ujmEBvifdJM6h6RLv4wQIg</td>\n",
       "      <td>2013-05-07 04:34:36</td>\n",
       "      <td>Q1sbwvVQXV2734tPgoKj4Q</td>\n",
       "      <td>1.0</td>\n",
       "      <td>Total bill for this horrible service? Over $8G...</td>\n",
       "      <td>hG7b0MtEbXx5QzbzE6C_VA</td>\n",
       "    </tr>\n",
       "    <tr>\n",
       "      <th>1</th>\n",
       "      <td>NZnhc2sEQy3RmzKTZnqtwQ</td>\n",
       "      <td>2017-01-14 21:30:33</td>\n",
       "      <td>GJXCdrto3ASJOqKeVWPi6Q</td>\n",
       "      <td>5.0</td>\n",
       "      <td>I *adore* Travis at the Hard Rock's new Kelly ...</td>\n",
       "      <td>yXQM5uF2jS6es16SJzNHfg</td>\n",
       "    </tr>\n",
       "    <tr>\n",
       "      <th>2</th>\n",
       "      <td>WTqjgwHlXbSFevF32_DJVw</td>\n",
       "      <td>2016-11-09 20:09:03</td>\n",
       "      <td>2TzJjDVDEuAW6MR5Vuc1ug</td>\n",
       "      <td>5.0</td>\n",
       "      <td>I have to say that this office really has it t...</td>\n",
       "      <td>n6-Gk65cPZL6Uz8qRm3NYw</td>\n",
       "    </tr>\n",
       "    <tr>\n",
       "      <th>3</th>\n",
       "      <td>ikCg8xy5JIg_NGPx-MSIDA</td>\n",
       "      <td>2018-01-09 20:56:38</td>\n",
       "      <td>yi0R0Ugj_xUx_Nek0-_Qig</td>\n",
       "      <td>5.0</td>\n",
       "      <td>Went in for a lunch. Steak sandwich was delici...</td>\n",
       "      <td>dacAIZ6fTM6mqwW5uxkskg</td>\n",
       "    </tr>\n",
       "    <tr>\n",
       "      <th>4</th>\n",
       "      <td>b1b1eb3uo-w561D0ZfCEiQ</td>\n",
       "      <td>2018-01-30 23:07:38</td>\n",
       "      <td>11a8sVPMUFtaC7_ABRkmtw</td>\n",
       "      <td>1.0</td>\n",
       "      <td>Today was my second out of three sessions I ha...</td>\n",
       "      <td>ssoyf2_x0EQMed6fgHeMyQ</td>\n",
       "    </tr>\n",
       "  </tbody>\n",
       "</table>\n",
       "</div>"
      ],
      "text/plain": [
       "              business_id                 date               review_id  stars  \\\n",
       "0  ujmEBvifdJM6h6RLv4wQIg  2013-05-07 04:34:36  Q1sbwvVQXV2734tPgoKj4Q    1.0   \n",
       "1  NZnhc2sEQy3RmzKTZnqtwQ  2017-01-14 21:30:33  GJXCdrto3ASJOqKeVWPi6Q    5.0   \n",
       "2  WTqjgwHlXbSFevF32_DJVw  2016-11-09 20:09:03  2TzJjDVDEuAW6MR5Vuc1ug    5.0   \n",
       "3  ikCg8xy5JIg_NGPx-MSIDA  2018-01-09 20:56:38  yi0R0Ugj_xUx_Nek0-_Qig    5.0   \n",
       "4  b1b1eb3uo-w561D0ZfCEiQ  2018-01-30 23:07:38  11a8sVPMUFtaC7_ABRkmtw    1.0   \n",
       "\n",
       "                                                text                 user_id  \n",
       "0  Total bill for this horrible service? Over $8G...  hG7b0MtEbXx5QzbzE6C_VA  \n",
       "1  I *adore* Travis at the Hard Rock's new Kelly ...  yXQM5uF2jS6es16SJzNHfg  \n",
       "2  I have to say that this office really has it t...  n6-Gk65cPZL6Uz8qRm3NYw  \n",
       "3  Went in for a lunch. Steak sandwich was delici...  dacAIZ6fTM6mqwW5uxkskg  \n",
       "4  Today was my second out of three sessions I ha...  ssoyf2_x0EQMed6fgHeMyQ  "
      ]
     },
     "execution_count": 8,
     "metadata": {},
     "output_type": "execute_result"
    }
   ],
   "source": [
    "review_data.head()"
   ]
  },
  {
   "cell_type": "code",
   "execution_count": 9,
   "metadata": {},
   "outputs": [],
   "source": [
    "review_data.to_csv('review_data.csv')   # save to csv"
   ]
  },
  {
   "cell_type": "markdown",
   "metadata": {},
   "source": [
    "#  load business data"
   ]
  },
  {
   "cell_type": "code",
   "execution_count": 6,
   "metadata": {},
   "outputs": [
    {
     "data": {
      "text/plain": [
       "list"
      ]
     },
     "execution_count": 6,
     "metadata": {},
     "output_type": "execute_result"
    }
   ],
   "source": [
    "data2 = []\n",
    "with open('/home/drallab/datamining/business.json') as f:\n",
    "    for line in f:\n",
    "        data2.append(json.loads(line))\n",
    "        \n",
    "len(data2)\n",
    "\n",
    "type(data2)"
   ]
  },
  {
   "cell_type": "code",
   "execution_count": 4,
   "metadata": {},
   "outputs": [],
   "source": [
    "business_id = []\n",
    "name = []\n",
    "address = []\n",
    "city = []\n",
    "state = []\n",
    "postal_code = []\n",
    "latitude = []\n",
    "longitude = []\n",
    "stars = []\n",
    "review_count = []\n",
    "is_open = []\n",
    "attributes = []\n",
    "categories = []\n",
    "hours = []\n",
    "pricerange = []\n",
    "\n",
    "\n",
    "'''for entry in range(0, len(data2)): \n",
    "    if \"Restaurants\" in data2[entry][\"categories\"]:\n",
    "        business_id.append(data2[entry]['business_id'])\n",
    "        name.append(data2[entry]['name'])\n",
    "        address.append(data2[entry]['address'])\n",
    "        city.append(data2[entry]['city'])\n",
    "        state.append(data2[entry]['state'])\n",
    "        postal_code.append(data2[entry]['postal_code'])\n",
    "        categories.append(data2[entry]['categories'])\n",
    "        latitude.append(data2[entry]['latitude'])\n",
    "        longitude.append(data2[entry]['longitude'])\n",
    "        stars.append(data2[entry]['stars'])\n",
    "        review_count.append(data2[entry]['review_count'])\n",
    "        is_open.append(data2[entry]['is_open'])\n",
    "        attributes.append(data2[entry]['is_open'])\n",
    "        categories.append(data2[entry]['categories'])\n",
    "        hours.append(data2[entry]['hours'])\n",
    "        if \"RestaurantsPriceRange2\" in data2[entry]['attributes']:\n",
    "            pricerange.append(data2[entry]['attributes']['RestaurantsPriceRange2'])\n",
    "        else:\n",
    "            pricerange.append(0)'''\n",
    "            \n",
    "for entry in range(0,len(data2)): \n",
    "    business_id.append(data2[entry]['business_id'])\n",
    "    name.append(data2[entry]['name'])\n",
    "    address.append(data2[entry]['address'])\n",
    "    city.append(data2[entry]['city'])\n",
    "    state.append(data2[entry]['state'])\n",
    "    postal_code.append(data2[entry]['postal_code'])\n",
    "    categories.append(data2[entry]['categories'])\n",
    "    latitude.append(data2[entry]['latitude'])\n",
    "    longitude.append(data2[entry]['longitude'])\n",
    "    stars.append(data2[entry]['stars'])\n",
    "    review_count.append(data2[entry]['review_count'])\n",
    "    is_open.append(data2[entry]['is_open'])\n",
    "    attributes.append(data2[entry]['is_open'])\n",
    "    categories.append(data2[entry]['categories'])\n",
    "    hours.append(data2[entry]['hours'])\n",
    "            \n",
    "            \n",
    "        \n"
   ]
  },
  {
   "cell_type": "code",
   "execution_count": 7,
   "metadata": {},
   "outputs": [],
   "source": [
    "'''data2 = {'business_id ':business_id,'name':name,'city':city,'state':state,'stars':stars,'review_count':review_count,\n",
    "        'categories':categories,'latitude':latitude,'longitude':longitude,'is_open':is_open,\n",
    "        'pricerange':pricerange,'postal_code':postal_code}'''\n",
    "\n",
    "data2 ={'business_id':business_id,'name':name,'address':address,'city':city,'state':state,'stars':stars,'review_count':review_count,'categories':categories,'latitude':latitude,'longitude':longitude,'is_open':is_open,'pricerange':pricerange,'postal_code':postal_code,'attributes':attributes,'pricerange':pricerange}\n",
    "\n",
    "df = pd.DataFrame.from_dict(data2, orient='index')\n",
    "business_data=df.transpose()\n"
   ]
  },
  {
   "cell_type": "markdown",
   "metadata": {},
   "source": [
    "# clean business data keep only is_open = 1 in six states"
   ]
  },
  {
   "cell_type": "code",
   "execution_count": 8,
   "metadata": {},
   "outputs": [],
   "source": [
    "IL = business_data[business_data['state']=='IL']   # PA NV NC IL OH AZ only keep these 6 states \n",
    "PA = business_data[business_data['state']=='PA'] \n",
    "NV = business_data[business_data['state']=='NV']\n",
    "NC = business_data[business_data['state']=='NC']\n",
    "OH = business_data[business_data['state']=='OH']\n",
    "AZ = business_data[business_data['state']=='AZ']\n",
    "frame = [IL,PA,NV,NC,OH,AZ]\n",
    "business_info = pd.concat(frame)"
   ]
  },
  {
   "cell_type": "code",
   "execution_count": 9,
   "metadata": {},
   "outputs": [],
   "source": [
    "business = business_info[business_info['is_open']==1]   # only keep restaurants that are open\n",
    "business.to_csv('business_data.csv')   # save to csv"
   ]
  },
  {
   "cell_type": "code",
   "execution_count": 10,
   "metadata": {},
   "outputs": [
    {
     "name": "stderr",
     "output_type": "stream",
     "text": [
      "/usr/local/share/jupyterhub/env/jupyterhub/lib/python3.6/site-packages/IPython/core/interactiveshell.py:2728: DtypeWarning: Columns (13) have mixed types. Specify dtype option on import or set low_memory=False.\n",
      "  interactivity=interactivity, compiler=compiler, result=result)\n"
     ]
    },
    {
     "data": {
      "text/plain": [
       "112412"
      ]
     },
     "execution_count": 10,
     "metadata": {},
     "output_type": "execute_result"
    }
   ],
   "source": [
    "df = pd.read_csv('business_data.csv')\n",
    "len(df)"
   ]
  },
  {
   "cell_type": "markdown",
   "metadata": {},
   "source": [
    "# Clean review: keep reviews for restaurants in cleaned business dataset"
   ]
  },
  {
   "cell_type": "code",
   "execution_count": 11,
   "metadata": {},
   "outputs": [
    {
     "name": "stderr",
     "output_type": "stream",
     "text": [
      "/usr/local/share/jupyterhub/env/jupyterhub/lib/python3.6/site-packages/IPython/core/interactiveshell.py:2728: DtypeWarning: Columns (13) have mixed types. Specify dtype option on import or set low_memory=False.\n",
      "  interactivity=interactivity, compiler=compiler, result=result)\n",
      "/usr/local/share/jupyterhub/env/jupyterhub/lib/python3.6/site-packages/IPython/core/interactiveshell.py:2728: DtypeWarning: Columns (0) have mixed types. Specify dtype option on import or set low_memory=False.\n",
      "  interactivity=interactivity, compiler=compiler, result=result)\n"
     ]
    }
   ],
   "source": [
    "# Create review_subset\n",
    "\n",
    "df = pd.read_csv('business_data.csv')\n",
    "df.head()\n",
    "\n",
    "df2 = pd.read_csv('review_data.csv')\n",
    "\n",
    "df['key'] = df.iloc[:,1]\n",
    "review = df2[df2['business_id'].isin(df['key'])]  # only keep reviews for restaurants in business_data.csv\n",
    "review = review.reset_index().iloc[:,2:]"
   ]
  },
  {
   "cell_type": "code",
   "execution_count": 12,
   "metadata": {},
   "outputs": [],
   "source": [
    "review.to_csv('review_subset.csv',index = False)  # save to csv"
   ]
  },
  {
   "cell_type": "markdown",
   "metadata": {},
   "source": [
    "# Load user data"
   ]
  },
  {
   "cell_type": "code",
   "execution_count": 5,
   "metadata": {},
   "outputs": [
    {
     "data": {
      "text/plain": [
       "1637138"
      ]
     },
     "execution_count": 5,
     "metadata": {},
     "output_type": "execute_result"
    }
   ],
   "source": [
    "data3 = []\n",
    "with open('/home/drallab/datamining/user.json') as f:\n",
    "    for line in f:\n",
    "        data3.append(json.loads(line))\n",
    "len(data3) "
   ]
  },
  {
   "cell_type": "code",
   "execution_count": 6,
   "metadata": {},
   "outputs": [],
   "source": [
    "userid = []\n",
    "average_stars= []\n",
    "review_count = []\n",
    "yelping_since = []\n",
    "\n",
    "for entry in range(0, len(data3)):     \n",
    "    userid.append(data3[entry]['user_id'])\n",
    "    average_stars.append(data3[entry]['average_stars'])\n",
    "    review_count.append(data3[entry]['review_count'])\n",
    "    yelping_since.append(data3[entry]['yelping_since'])\n",
    "    \n"
   ]
  },
  {
   "cell_type": "code",
   "execution_count": 7,
   "metadata": {},
   "outputs": [],
   "source": [
    "data3 = {'user_id':userid ,'average_stars':average_stars,'review_count':review_count,'yelping_since':yelping_since,'review_count':review_count}\n",
    "user_data  = pd.DataFrame(data3)"
   ]
  },
  {
   "cell_type": "code",
   "execution_count": 8,
   "metadata": {},
   "outputs": [
    {
     "data": {
      "text/html": [
       "<div>\n",
       "<table border=\"1\" class=\"dataframe\">\n",
       "  <thead>\n",
       "    <tr style=\"text-align: right;\">\n",
       "      <th></th>\n",
       "      <th>average_stars</th>\n",
       "      <th>review_count</th>\n",
       "      <th>user_id</th>\n",
       "      <th>yelping_since</th>\n",
       "    </tr>\n",
       "  </thead>\n",
       "  <tbody>\n",
       "    <tr>\n",
       "      <th>0</th>\n",
       "      <td>4.03</td>\n",
       "      <td>95</td>\n",
       "      <td>l6BmjZMeQD3rDxWUbiAiow</td>\n",
       "      <td>2013-10-08 23:11:33</td>\n",
       "    </tr>\n",
       "    <tr>\n",
       "      <th>1</th>\n",
       "      <td>3.63</td>\n",
       "      <td>33</td>\n",
       "      <td>4XChL029mKr5hydo79Ljxg</td>\n",
       "      <td>2013-02-21 22:29:06</td>\n",
       "    </tr>\n",
       "    <tr>\n",
       "      <th>2</th>\n",
       "      <td>3.71</td>\n",
       "      <td>16</td>\n",
       "      <td>bc8C_eETBWL0olvFSJJd0w</td>\n",
       "      <td>2013-10-04 00:16:10</td>\n",
       "    </tr>\n",
       "    <tr>\n",
       "      <th>3</th>\n",
       "      <td>4.85</td>\n",
       "      <td>17</td>\n",
       "      <td>dD0gZpBctWGdWo9WlGuhlA</td>\n",
       "      <td>2014-05-22 15:57:30</td>\n",
       "    </tr>\n",
       "    <tr>\n",
       "      <th>4</th>\n",
       "      <td>4.08</td>\n",
       "      <td>361</td>\n",
       "      <td>MM4RJAeH6yuaN8oZDSt0RA</td>\n",
       "      <td>2013-10-23 07:02:50</td>\n",
       "    </tr>\n",
       "    <tr>\n",
       "      <th>5</th>\n",
       "      <td>4.20</td>\n",
       "      <td>214</td>\n",
       "      <td>0rK89TS8xqy1wI4nYI1wfw</td>\n",
       "      <td>2011-06-23 08:05:13</td>\n",
       "    </tr>\n",
       "    <tr>\n",
       "      <th>6</th>\n",
       "      <td>4.39</td>\n",
       "      <td>1122</td>\n",
       "      <td>TEtzbpgA2BFBrC0y0sCbfw</td>\n",
       "      <td>2006-02-15 18:29:35</td>\n",
       "    </tr>\n",
       "    <tr>\n",
       "      <th>7</th>\n",
       "      <td>4.33</td>\n",
       "      <td>6</td>\n",
       "      <td>KGuqerdeNhxzXZEyBaqqSw</td>\n",
       "      <td>2014-06-07 01:50:09</td>\n",
       "    </tr>\n",
       "    <tr>\n",
       "      <th>8</th>\n",
       "      <td>4.21</td>\n",
       "      <td>859</td>\n",
       "      <td>T0gWkTHWRChVUe_Dn1F8nw</td>\n",
       "      <td>2005-07-20 22:38:17</td>\n",
       "    </tr>\n",
       "    <tr>\n",
       "      <th>9</th>\n",
       "      <td>4.53</td>\n",
       "      <td>124</td>\n",
       "      <td>NQffx45eJaeqhFcMadKUQA</td>\n",
       "      <td>2008-12-10 22:59:45</td>\n",
       "    </tr>\n",
       "  </tbody>\n",
       "</table>\n",
       "</div>"
      ],
      "text/plain": [
       "   average_stars  review_count                 user_id        yelping_since\n",
       "0           4.03            95  l6BmjZMeQD3rDxWUbiAiow  2013-10-08 23:11:33\n",
       "1           3.63            33  4XChL029mKr5hydo79Ljxg  2013-02-21 22:29:06\n",
       "2           3.71            16  bc8C_eETBWL0olvFSJJd0w  2013-10-04 00:16:10\n",
       "3           4.85            17  dD0gZpBctWGdWo9WlGuhlA  2014-05-22 15:57:30\n",
       "4           4.08           361  MM4RJAeH6yuaN8oZDSt0RA  2013-10-23 07:02:50\n",
       "5           4.20           214  0rK89TS8xqy1wI4nYI1wfw  2011-06-23 08:05:13\n",
       "6           4.39          1122  TEtzbpgA2BFBrC0y0sCbfw  2006-02-15 18:29:35\n",
       "7           4.33             6  KGuqerdeNhxzXZEyBaqqSw  2014-06-07 01:50:09\n",
       "8           4.21           859  T0gWkTHWRChVUe_Dn1F8nw  2005-07-20 22:38:17\n",
       "9           4.53           124  NQffx45eJaeqhFcMadKUQA  2008-12-10 22:59:45"
      ]
     },
     "execution_count": 8,
     "metadata": {},
     "output_type": "execute_result"
    }
   ],
   "source": [
    "user_data.head(10)"
   ]
  },
  {
   "cell_type": "code",
   "execution_count": null,
   "metadata": {},
   "outputs": [],
   "source": []
  }
 ],
 "metadata": {
  "kernelspec": {
   "display_name": "Python 3",
   "language": "python",
   "name": "python3"
  },
  "language_info": {
   "codemirror_mode": {
    "name": "ipython",
    "version": 3
   },
   "file_extension": ".py",
   "mimetype": "text/x-python",
   "name": "python",
   "nbconvert_exporter": "python",
   "pygments_lexer": "ipython3",
   "version": "3.6.0"
  }
 },
 "nbformat": 4,
 "nbformat_minor": 2
}
